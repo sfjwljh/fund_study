{
 "cells": [
  {
   "cell_type": "markdown",
   "metadata": {},
   "source": [
    "# 生成完整prompt"
   ]
  },
  {
   "cell_type": "code",
   "execution_count": 6,
   "metadata": {},
   "outputs": [],
   "source": [
    "import sys\n",
    "import os\n",
    "sys.path.append(os.path.abspath('../'))\n",
    "from prompt import PROMPT1, PROMPT2,PROMPT3,PROMPT4\n",
    "from utils.api_request import REQUEST_AI\n"
   ]
  },
  {
   "cell_type": "code",
   "execution_count": 7,
   "metadata": {},
   "outputs": [],
   "source": [
    "volcano=REQUEST_AI(platform='volcano',model='r1')\n",
    "# volcano=REQUEST_AI(platform='volcano',model='doubao-1-5-pro-32k')\n",
    "# volcano.get_completion('你好')"
   ]
  },
  {
   "cell_type": "code",
   "execution_count": 3,
   "metadata": {},
   "outputs": [
    {
     "name": "stderr",
     "output_type": "stream",
     "text": [
      "Processing queries: 100%|██████████| 1/1 [00:06<00:00,  6.09s/query, success=1, failed=0, success_rate=100.0%]"
     ]
    },
    {
     "name": "stdout",
     "output_type": "stream",
     "text": [
      "\n",
      "Final Statistics:\n",
      "Total Processed: 1\n",
      "Successful: 1\n",
      "Failed: 0\n",
      "Success Rate: 100.0%\n"
     ]
    },
    {
     "name": "stderr",
     "output_type": "stream",
     "text": [
      "\n"
     ]
    }
   ],
   "source": [
    "query_list = [10 * [\"猕猴桃\",\"翻译成英文：猕猴桃\"]]\n",
    "import os\n",
    "output_fil=os.path.join(os.path.abspath('.'),'volcano_output.txt')\n",
    "with open(output_fil,'w',encoding='utf-8') as fout:\n",
    "    for result in volcano.get_batch(query_list, max_workers=1):\n",
    "        # print(result)\n",
    "        try:\n",
    "            elapsed_time = ''\n",
    "            # elapsed_time = result['elapsed_time']\n",
    "\n",
    "            # r = extract_query(result[\"query\"])\n",
    "            query = result[\"query\"]\n",
    "            res = result[\"result\"].replace('\\n', '$')\n",
    "            stat = result[\"status\"]\n",
    "            # print(q)\n",
    "            # fout.write(f\"{query}\\t{res}\\n\")\n",
    "            fout.write(f\"{query}\\t{res}\\t{stat}\\t{elapsed_time}\\n\")\n",
    "            # print(f\"{query}\\t{res}\\t{stat}\\t{elapsed_time}\\n\")\n",
    "            fout.flush()\n",
    "            # fout.write(f\"{query.replace(prefix, '')}\\t{res}\\t{stat}\\t{elapsed_time}\\n\")\n",
    "        except Exception as e:\n",
    "            print(\"error\",e)\n"
   ]
  },
  {
   "cell_type": "code",
   "execution_count": 5,
   "metadata": {},
   "outputs": [
    {
     "data": {
      "text/plain": [
       "[['猕猴桃', '翻译成英文：猕猴桃'],\n",
       " ['猕猴桃', '翻译成英文：猕猴桃'],\n",
       " ['猕猴桃', '翻译成英文：猕猴桃'],\n",
       " ['猕猴桃', '翻译成英文：猕猴桃'],\n",
       " ['猕猴桃', '翻译成英文：猕猴桃'],\n",
       " ['猕猴桃', '翻译成英文：猕猴桃'],\n",
       " ['猕猴桃', '翻译成英文：猕猴桃'],\n",
       " ['猕猴桃', '翻译成英文：猕猴桃'],\n",
       " ['猕猴桃', '翻译成英文：猕猴桃'],\n",
       " ['猕猴桃', '翻译成英文：猕猴桃']]"
      ]
     },
     "execution_count": 5,
     "metadata": {},
     "output_type": "execute_result"
    }
   ],
   "source": [
    "query_list=[[\"猕猴桃\",\"翻译成英文：猕猴桃\"] for i in range(0,10)]\n",
    "query_list"
   ]
  },
  {
   "cell_type": "code",
   "execution_count": 2,
   "metadata": {},
   "outputs": [
    {
     "data": {
      "text/plain": [
       "'你好！很高兴见到你。有什么我可以帮忙的吗？'"
      ]
     },
     "execution_count": 2,
     "metadata": {},
     "output_type": "execute_result"
    }
   ],
   "source": [
    "ds=REQUEST_AI(platform='deepseek',model='v3')\n",
    "ds.get_completion('你好')"
   ]
  },
  {
   "cell_type": "code",
   "execution_count": 10,
   "metadata": {},
   "outputs": [
    {
     "ename": "TypeError",
     "evalue": "'REQUEST_AI' object is not callable",
     "output_type": "error",
     "traceback": [
      "\u001b[0;31m---------------------------------------------------------------------------\u001b[0m",
      "\u001b[0;31mTypeError\u001b[0m                                 Traceback (most recent call last)",
      "Cell \u001b[0;32mIn[10], line 10\u001b[0m\n\u001b[1;32m      8\u001b[0m \u001b[38;5;66;03m# print(volcano_ds(PROMPT3.format(pre=pre,query=query,industry=industry,aspect=aspect)))\u001b[39;00m\n\u001b[1;32m      9\u001b[0m time\u001b[38;5;241m=\u001b[39m\u001b[38;5;124m\"\u001b[39m\u001b[38;5;124m未来\u001b[39m\u001b[38;5;124m\"\u001b[39m\n\u001b[0;32m---> 10\u001b[0m \u001b[38;5;28mprint\u001b[39m(\u001b[43mvolcano\u001b[49m\u001b[43m(\u001b[49m\u001b[43mPROMPT4\u001b[49m\u001b[38;5;241;43m.\u001b[39;49m\u001b[43mformat\u001b[49m\u001b[43m(\u001b[49m\u001b[43mpre\u001b[49m\u001b[38;5;241;43m=\u001b[39;49m\u001b[43mpre\u001b[49m\u001b[43m,\u001b[49m\u001b[43mquery\u001b[49m\u001b[38;5;241;43m=\u001b[39;49m\u001b[43mquery\u001b[49m\u001b[43m,\u001b[49m\u001b[43mindustry\u001b[49m\u001b[38;5;241;43m=\u001b[39;49m\u001b[43mindustry\u001b[49m\u001b[43m,\u001b[49m\u001b[43maspect\u001b[49m\u001b[38;5;241;43m=\u001b[39;49m\u001b[43maspect\u001b[49m\u001b[43m,\u001b[49m\u001b[43mtime\u001b[49m\u001b[38;5;241;43m=\u001b[39;49m\u001b[43mtime\u001b[49m\u001b[43m)\u001b[49m\u001b[43m)\u001b[49m)\n",
      "\u001b[0;31mTypeError\u001b[0m: 'REQUEST_AI' object is not callable"
     ]
    }
   ],
   "source": [
    "pre=\"我看了一下，对，新的，是吧中证新能源指数，它里面包含了所有板块，新能源指数现在明年 2022 年，现在已经到年底了，我们看 2022 年的估值 35 倍，它在一个成长型行业里面 35 倍其实是一个很合理的一个水平，并不算高估，再加上它有这么多的利好，而且增速很快，所以它并不是很估很贵的一个状态啊里面最贵的是锂电池，现在是 42 倍，然后光伏 30 倍，风电 22 倍，然后它锂矿石这块的话大概 30 倍可以看到就是除了锂电池，其他都在 30 倍以内， 30 倍以后， 30 倍左右或 30 倍以内那锂电池的话因为它行业增速特别快，很多头部公司竞争力又很强嗯\"\n",
    "query=\"然后给 40 位的估值其实也不是那么不合理，因为行业未来的一个增速都在 40 以上， PEG 也是在1亿以内，所以行业估值也不贵，所以我认为明年的一个新能源投资机会还是很多的，也比较热闹，但是可能它不会像今年整体是一个普涨，而且是大幅上涨，可能买个指数，今年可能也跟买公募基金差不多，但明年的话我们认为可能它会分化，而且就对于选股的一个要求，甚至是对于细分板块跟择时要求是比较高的嗯\"\n",
    "\n",
    "# print(volcano_ds(PROMPT1.format(pre=pre,query=query)))\n",
    "industry=\"新能源\"\n",
    "# print(volcano_ds(PROMPT2.format(pre=pre,query=query,industry=industry)))\n",
    "aspect=\"行业自身情况\"\n",
    "# print(volcano_ds(PROMPT3.format(pre=pre,query=query,industry=industry,aspect=aspect)))\n",
    "time=\"未来\"\n",
    "print(volcano(PROMPT4.format(pre=pre,query=query,industry=industry,aspect=aspect,time=time)))\n"
   ]
  },
  {
   "cell_type": "code",
   "execution_count": null,
   "metadata": {},
   "outputs": [
    {
     "data": {
      "text/plain": [
       "'\\n我会为你提供一句需要标注的句子，请你判断在“# 正文”段落内的句子内是否有谈到下面所有行业中的一种或多种 [ 医疗保健,生物医药,疫苗,证券公司,机器人,半导体,化工,有色金属,新能源,通信,农业,环保,金融,军工,银行,电力,传媒,互联网,食品饮料,汽车,煤炭,建筑材料,光伏,电子,房地产,物联网,智能汽车,中药,新材料,畜牧养殖,装备产业,运输,钢铁,高铁,低碳经济,基建工程,能源化工,绿色电力,饲料豆粕,工业互联网,车联网,云计算,数字经济,财富管理,高端制造,保险,芯片,金融科技,软件服务,房地产,石油天然气,计算机,装备制造,清洁能源,生物科技,宏观市场 ]\\n请以列表的形式将提到的行业结果返回。注意，为了不让一句话过于孤立影响解读，我会为你提供一部分前文用于理解当前的句子并判断，前文在“# 前文”的段落后。你只需要关注判断“# 正文”之后的内容并判断就行，仅在前文中提到但在正文中没有提到的是无用的，不算作有效输出\\n示例1输入： \\n```\\n# 前文\\n就在所有的二级指数，白酒是涨幅第一的， 15 年化涨幅是30%，那就更是超出了超过巴菲特，对对对，超过对，所以这个这涨回了全球的投资市场比较罕见的这个东西，这个东西是在我们这个去年底写的这个把你的复盘报告里面一段，这个我们从书面或者从历史，包括从各个的事实角度，从三个国家，美国、日本和中国来表现出来消费涨幅低，它本来就是一个规律，它是应该的啊我这就说到这么多，好徐叔这边有没有什么相互冲的哈哈哈，那个刚才我就说嘛，这个白酒的话，中国 a 股这白酒这十几年，是吧\\n# 正文\\n涨幅的年化税率超过巴菲特了，这个我这个还是非常惊人的东西，因为毕竟我们中国这个 20 年来实际上就是一个这个高速发展的一个阶段，发展的结果的话就是大家收入水平提升了，收入水平提升以后的话就会更多的消费升级，更多的消费品类，这之后就带来了我们这个 a 股上的消费品类，尤其是食品饮料大幅上涨\\n```\\n示例1输出：[\"消费\"]\\n示例1思考过程及解释：“# 正文”的句子中只提到了“消费”板块，因此返回只有“消费”板块的列表。\\n\\n示例2输入：\\n```\\n# 前文\\n所以总体来说大家可以看到这两天确实只有几个板块相对是比较稳定的，比如说像家电，比如说像煤炭，对，那包括像石化、石油这些，偏偏能源的板块，偏偏电力啊对啊，那不就是诶，资金上的一个差异对诶，好像都是咱们这个赛道选机保推进的板块哈对啊对啊，所以大家我们说说我们的 Excel 群举报，大家可以这个积极关注一下啊嗯，那另外一方面就是我们接下来要探讨的诶，那是不是以后其他板块就没有机会了是啊，对吧那会不会以后就是像这两天，就只有像这个能源板块有机会，其他板块没有机会，那也不见得啊首先第一个我们说对于其他板块来说，达人们未来也会这些大的企业，嗯，它也会加大分红力度，是因为我们说像一些科技板块啊那么以前我们说它的主要任务是，对吧在投机，对吧\\n# 正文\\n因为它整个行业发展比较快，那么我们就加大投，再投资，那么你可以为投资者赚取更高的一个回报\\n```\\n示例2输出：[\"机器人\",\"半导体\",\"光伏\",\"芯片\",\"软件服务\",\"计算机\",\"生物科技\"]\\n示例2思考过程及解释：“# 正文”的句子中提到了“它整个行业”，根据前文可知“它”指的是“科技”板块。从给出的行业列表中找到“机器人”、“半导体”、“光伏”、“芯片”、“软件服务”、“计算机”、“生物科技”属于“科技的范畴，因此将他们加入列表返回。\\n\\n示例3输入：\\n```\\n# 前文\\n024年3月7日 上午 9:37|1小时 31分钟 33秒 关键词: 品类、投资、产品、估值、新基金、长安、指数、核心、机会、医疗保健、资本市场、基金经理、超额收益、长安基金、消费基金、首席分析师、时间维度、投资策略 文字记录: 哎呦，他这个还得调调啊\\n# 正文\\n这个王总出镜头了，他上面第一，上面那个好了，差不多了，其实整体有点偏离，就这样吧，没办法运营\\n```\\n示例3输出：[]\\n示例3思考过程及解释： 正文中并没有提到相关内容，因此返回空列表 \\n\\n下面请你根据上面的说明和例子，直接给出回答，无需输出思考过程解释。上面例子中的过程解释只是为了说明任务，你只要输出列表内容即可。\\n\\n输入：\\n```\\n# 前文\\n{pre}\\n# 正文\\n{query}\\n```\\n输出：'"
      ]
     },
     "execution_count": 2,
     "metadata": {},
     "output_type": "execute_result"
    }
   ],
   "source": [
    "PROMPT1.format(pre=pre,query=query)\n",
    "PROMPT2.format(pre=pre,query=query,industry=industry)\n",
    "PROMPT3.format(pre=pre,query=query,industry=industry,aspect=aspect)\n",
    "PROMPT4.format(pre=pre,query=query,industry=industry,aspect=aspect,time=time)\n"
   ]
  }
 ],
 "metadata": {
  "kernelspec": {
   "display_name": "fund",
   "language": "python",
   "name": "python3"
  },
  "language_info": {
   "codemirror_mode": {
    "name": "ipython",
    "version": 3
   },
   "file_extension": ".py",
   "mimetype": "text/x-python",
   "name": "python",
   "nbconvert_exporter": "python",
   "pygments_lexer": "ipython3",
   "version": "3.9.19"
  }
 },
 "nbformat": 4,
 "nbformat_minor": 2
}

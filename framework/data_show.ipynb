{
 "cells": [
  {
   "cell_type": "code",
   "execution_count": 1,
   "metadata": {},
   "outputs": [],
   "source": [
    "import pickle\n",
    "with open(r'F:\\BaiduSyncdisk\\obsidian\\Master\\fund_stream_project\\codes\\framework\\data\\souce_data.pkl','rb') as file:\n",
    "    data=pickle.load(file)\n",
    "\n",
    "\n"
   ]
  },
  {
   "cell_type": "code",
   "execution_count": 5,
   "metadata": {},
   "outputs": [
    {
     "name": "stdout",
     "output_type": "stream",
     "text": [
      "<class 'dict'>\n",
      "dict_keys(['9', '10', '1', '57', '2', '54', '49', '6', '19', '45', '29', '51', '20', '14', '16', '26', '46', '50', '15', '21', '24', '5', '4'])\n",
      "Index(['日期', '开盘价', '收盘价', '最高价', '最低价', '涨跌幅', '成交量(万手)', '成交额(亿元)', '对数收益率',\n",
      "       '波动率', 'ADX', 'RSI', 'MACD', 'emotion=1', 'emotion=2', 'emotion=3',\n",
      "       'emotion_count'],\n",
      "      dtype='object')\n"
     ]
    }
   ],
   "source": [
    "print(type(data))\n",
    "print(data.keys())\n",
    "print(data['9'].keys())\n",
    "start_date='2023-10-31'\n",
    "end_date='2024-05-04'\n",
    "# 统计，列名是print(data.keys())，每一行是start_date到end_date的行数\n"
   ]
  }
 ],
 "metadata": {
  "kernelspec": {
   "display_name": "Python 3",
   "language": "python",
   "name": "python3"
  },
  "language_info": {
   "codemirror_mode": {
    "name": "ipython",
    "version": 3
   },
   "file_extension": ".py",
   "mimetype": "text/x-python",
   "name": "python",
   "nbconvert_exporter": "python",
   "pygments_lexer": "ipython3",
   "version": "3.12.3"
  }
 },
 "nbformat": 4,
 "nbformat_minor": 2
}

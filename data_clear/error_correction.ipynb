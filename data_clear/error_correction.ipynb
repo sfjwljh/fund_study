{
 "cells": [
  {
   "cell_type": "markdown",
   "metadata": {},
   "source": [
    "# 接文心一言纠错"
   ]
  },
  {
   "cell_type": "code",
   "execution_count": null,
   "metadata": {},
   "outputs": [],
   "source": [
    "import json\n",
    "import requests\n",
    "def get_access_token():\n",
    "    url = \"https://aip.baidubce.com/oauth/2.0/token?grant_type=client_credentials&client_id=pGRnDoNGZBOdfRGFPUaem4yE&client_secret=e8jLFqo0YHTsr8G6gSYMYkfpg6ixa8QH\"\n",
    "    payload = json.dumps(\"\")\n",
    "    headers = {\n",
    "        'Content-Type': 'application/json',\n",
    "        'Accept': 'application/json'\n",
    "    }\n",
    "    response = requests.request(\"POST\", url, headers=headers, data=payload)\n",
    "    return response.json().get(\"access_token\")\n",
    "\n",
    "def big_model(prompt,query,plugin_url):\n",
    "    # prompt:自定义提示词\n",
    "    # query：用户原问题\n",
    "    # plugin_url：插件的调用url\n",
    "    plugin_url = plugin_url + get_access_token()\n",
    "\n",
    "    payload = json.dumps({\n",
    "        \"query\": \"你是贸sir学长，一款基于RASA开源框架和大模型的高招智能问答系统，你的职责是回答和贸大本科招生相关的问题。\"+prompt+query,\n",
    "        \"plugins\": [\"uuid-zhishiku\"],\n",
    "        \"verbose\": True\n",
    "    })\n",
    "    headers = {\n",
    "        'Content-Type': 'application/json'\n",
    "    }\n",
    "    response = requests.request(\"POST\", plugin_url, headers=headers, data=payload)\n",
    "    string = response.text\n",
    "\n",
    "    match = re.search(r\"result\\\":\\\".*?\\\",\\\"is_truncated\\\":false\", string)\n",
    "\n",
    "    if match:\n",
    "        start = match.start()\n",
    "        end = match.end()\n",
    "\n",
    "        return(string[start + 9:end - 22])\n",
    "    return \"回答失败，请重试\""
   ]
  }
 ],
 "metadata": {
  "language_info": {
   "name": "python"
  }
 },
 "nbformat": 4,
 "nbformat_minor": 2
}

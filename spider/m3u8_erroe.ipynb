{
 "cells": [
  {
   "cell_type": "code",
   "execution_count": 1,
   "metadata": {},
   "outputs": [],
   "source": [
    "import pymysql\n",
    "db = pymysql.connect(host='bj-cynosdbmysql-grp-igalwqqk.sql.tencentcdb.com',\n",
    "                        user='root',\n",
    "                        password='UIBE_chat_2023',\n",
    "                        database='fund_stream',\n",
    "                        charset='utf8mb4',\n",
    "                        port=25445,)\n",
    "cursor = db.cursor()\n"
   ]
  },
  {
   "cell_type": "code",
   "execution_count": 6,
   "metadata": {},
   "outputs": [],
   "source": [
    "# 拿到表里已经有的所有url\n",
    "select_query = \"SELECT code,m3u8_url FROM total where length(m3u8_url)>0\"\n",
    "cursor.execute(select_query)\n",
    "db_code_list=cursor.fetchall()"
   ]
  },
  {
   "cell_type": "code",
   "execution_count": 8,
   "metadata": {},
   "outputs": [],
   "source": [
    "# 拿到表里已经有的所有url_new\n",
    "select_query = \"SELECT code,m3u8_url_new FROM total where length(m3u8_url_new)>0\"\n",
    "cursor.execute(select_query)\n",
    "db_code_list_new=cursor.fetchall()"
   ]
  },
  {
   "cell_type": "code",
   "execution_count": 14,
   "metadata": {},
   "outputs": [],
   "source": [
    "select_query = \"SELECT code,m3u8_url,m3u8_url_new FROM total where (length(m3u8_url_new)>0 or length(m3u8_url)>0)\"\n",
    "cursor.execute(select_query)\n",
    "db_code_list=cursor.fetchall()"
   ]
  },
  {
   "cell_type": "code",
   "execution_count": 15,
   "metadata": {},
   "outputs": [
    {
     "data": {
      "text/plain": [
       "25106"
      ]
     },
     "execution_count": 15,
     "metadata": {},
     "output_type": "execute_result"
    }
   ],
   "source": [
    "len(db_code_list)"
   ]
  },
  {
   "cell_type": "code",
   "execution_count": 17,
   "metadata": {},
   "outputs": [],
   "source": [
    "re=[]\n",
    "for line in db_code_list:\n",
    "    if line[1]!=line[2]:\n",
    "        re.append(line[0])\n"
   ]
  },
  {
   "cell_type": "code",
   "execution_count": 18,
   "metadata": {},
   "outputs": [
    {
     "data": {
      "text/plain": [
       "14822"
      ]
     },
     "execution_count": 18,
     "metadata": {},
     "output_type": "execute_result"
    }
   ],
   "source": [
    "len(re)"
   ]
  },
  {
   "cell_type": "code",
   "execution_count": 16,
   "metadata": {},
   "outputs": [
    {
     "data": {
      "text/plain": [
       "(3852713,\n",
       " 'https://1500000598.vod2.myqcloud.com/6c97873evodcq1500000598/2dbc43a25285890806587796097/playlist.m3u8',\n",
       " 'https://1500000598.vod2.myqcloud.com/6c97873evodcq1500000598/2dbc43a25285890806587796097/playlist.m3u8')"
      ]
     },
     "execution_count": 16,
     "metadata": {},
     "output_type": "execute_result"
    }
   ],
   "source": [
    "db_code_list[0]"
   ]
  },
  {
   "cell_type": "code",
   "execution_count": 4,
   "metadata": {},
   "outputs": [],
   "source": [
    "# 创建一个空的字典来跟踪url的唯一性  \n",
    "url_to_codes = {}  \n",
    "# 创建一个空列表来保存有重复url的code  \n",
    "codes_with_duplicates = []  \n",
    "\n",
    "# 遍历db_code_list  \n",
    "for code, url in db_code_list:  \n",
    "    # print(code, url)\n",
    "    # 如果url不在字典中，则创建一个新的列表来存储code  \n",
    "    if url not in url_to_codes.keys():  \n",
    "        url_to_codes[url] = [code]  \n",
    "    else:  \n",
    "    # 如果url已经在字典中，则添加当前的code到该url对应的列表中  \n",
    "        url_to_codes[url].append(code)  \n",
    "        # 同时将这个code添加到codes_with_duplicates列表中（如果尚未添加）  \n",
    "        if code not in codes_with_duplicates:  \n",
    "            codes_with_duplicates.append(code)  "
   ]
  },
  {
   "cell_type": "code",
   "execution_count": 5,
   "metadata": {},
   "outputs": [
    {
     "data": {
      "text/plain": [
       "0"
      ]
     },
     "execution_count": 5,
     "metadata": {},
     "output_type": "execute_result"
    }
   ],
   "source": [
    "len(codes_with_duplicates)"
   ]
  }
 ],
 "metadata": {
  "kernelspec": {
   "display_name": "Python 3",
   "language": "python",
   "name": "python3"
  },
  "language_info": {
   "codemirror_mode": {
    "name": "ipython",
    "version": 3
   },
   "file_extension": ".py",
   "mimetype": "text/x-python",
   "name": "python",
   "nbconvert_exporter": "python",
   "pygments_lexer": "ipython3",
   "version": "3.9.13"
  }
 },
 "nbformat": 4,
 "nbformat_minor": 2
}

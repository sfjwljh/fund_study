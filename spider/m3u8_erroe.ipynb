{
 "cells": [
  {
   "cell_type": "code",
   "execution_count": 1,
   "metadata": {},
   "outputs": [],
   "source": [
    "import pymysql\n",
    "db = pymysql.connect(host='bj-cynosdbmysql-grp-igalwqqk.sql.tencentcdb.com',\n",
    "                        user='root',\n",
    "                        password='UIBE_chat_2023',\n",
    "                        database='fund_stream',\n",
    "                        charset='utf8mb4',\n",
    "                        port=25445,)\n",
    "cursor = db.cursor()\n"
   ]
  },
  {
   "cell_type": "code",
   "execution_count": 6,
   "metadata": {},
   "outputs": [],
   "source": [
    "# 拿到表里已经有的所有url\n",
    "select_query = \"SELECT code,m3u8_url FROM total where length(m3u8_url)>0\"\n",
    "cursor.execute(select_query)\n",
    "db_code_list=cursor.fetchall()"
   ]
  },
  {
   "cell_type": "code",
   "execution_count": 8,
   "metadata": {},
   "outputs": [],
   "source": [
    "# 拿到表里已经有的所有url_new\n",
    "select_query = \"SELECT code,m3u8_url_new FROM total where length(m3u8_url_new)>0\"\n",
    "cursor.execute(select_query)\n",
    "db_code_list_new=cursor.fetchall()"
   ]
  },
  {
   "cell_type": "code",
   "execution_count": 14,
   "metadata": {},
   "outputs": [],
   "source": [
    "select_query = \"SELECT code,m3u8_url,m3u8_url_new FROM total where (length(m3u8_url_new)>0 or length(m3u8_url)>0)\"\n",
    "cursor.execute(select_query)\n",
    "db_code_list=cursor.fetchall()"
   ]
  },
  {
   "cell_type": "code",
   "execution_count": 2,
   "metadata": {},
   "outputs": [],
   "source": [
    "# 拿到下载错误的code列表\n",
    "select_query = \"SELECT code FROM total where (length(m3u8_url_new)>0 and length(m3u8_url)>0 and m3u8_url!=m3u8_url_new)\"\n",
    "cursor.execute(select_query)\n",
    "db_code_list=cursor.fetchall()"
   ]
  },
  {
   "cell_type": "code",
   "execution_count": 3,
   "metadata": {},
   "outputs": [
    {
     "data": {
      "text/plain": [
       "14775"
      ]
     },
     "execution_count": 3,
     "metadata": {},
     "output_type": "execute_result"
    }
   ],
   "source": [
    "len(db_code_list)"
   ]
  },
  {
   "cell_type": "code",
   "execution_count": 17,
   "metadata": {},
   "outputs": [],
   "source": [
    "re=[]\n",
    "for line in db_code_list:\n",
    "    if line[1]!=line[2]:\n",
    "        re.append(line[0])\n"
   ]
  },
  {
   "cell_type": "code",
   "execution_count": 18,
   "metadata": {},
   "outputs": [
    {
     "data": {
      "text/plain": [
       "14822"
      ]
     },
     "execution_count": 18,
     "metadata": {},
     "output_type": "execute_result"
    }
   ],
   "source": [
    "len(re)"
   ]
  },
  {
   "cell_type": "code",
   "execution_count": 16,
   "metadata": {},
   "outputs": [
    {
     "data": {
      "text/plain": [
       "(3852713,\n",
       " 'https://1500000598.vod2.myqcloud.com/6c97873evodcq1500000598/2dbc43a25285890806587796097/playlist.m3u8',\n",
       " 'https://1500000598.vod2.myqcloud.com/6c97873evodcq1500000598/2dbc43a25285890806587796097/playlist.m3u8')"
      ]
     },
     "execution_count": 16,
     "metadata": {},
     "output_type": "execute_result"
    }
   ],
   "source": [
    "db_code_list[0]"
   ]
  },
  {
   "cell_type": "code",
   "execution_count": 4,
   "metadata": {},
   "outputs": [],
   "source": [
    "# 创建一个空的字典来跟踪url的唯一性  \n",
    "url_to_codes = {}  \n",
    "# 创建一个空列表来保存有重复url的code  \n",
    "codes_with_duplicates = []  \n",
    "\n",
    "# 遍历db_code_list  \n",
    "for code, url in db_code_list:  \n",
    "    # print(code, url)\n",
    "    # 如果url不在字典中，则创建一个新的列表来存储code  \n",
    "    if url not in url_to_codes.keys():  \n",
    "        url_to_codes[url] = [code]  \n",
    "    else:  \n",
    "    # 如果url已经在字典中，则添加当前的code到该url对应的列表中  \n",
    "        url_to_codes[url].append(code)  \n",
    "        # 同时将这个code添加到codes_with_duplicates列表中（如果尚未添加）  \n",
    "        if code not in codes_with_duplicates:  \n",
    "            codes_with_duplicates.append(code)  "
   ]
  },
  {
   "cell_type": "code",
   "execution_count": 5,
   "metadata": {},
   "outputs": [
    {
     "data": {
      "text/plain": [
       "0"
      ]
     },
     "execution_count": 5,
     "metadata": {},
     "output_type": "execute_result"
    }
   ],
   "source": [
    "len(codes_with_duplicates)"
   ]
  },
  {
   "cell_type": "markdown",
   "metadata": {},
   "source": [
    "# 清理百度网盘\n",
    "根据数据库，拿到错误的列表，然后把百度网盘里的都删了。"
   ]
  },
  {
   "cell_type": "code",
   "execution_count": null,
   "metadata": {},
   "outputs": [],
   "source": [
    "import translate.my_disk_app as disk\n"
   ]
  },
  {
   "cell_type": "code",
   "execution_count": 5,
   "metadata": {},
   "outputs": [],
   "source": [
    "error_list=[i[0] for i in db_code_list]\n",
    "for code in error_list:\n",
    "    "
   ]
  },
  {
   "cell_type": "code",
   "execution_count": 7,
   "metadata": {},
   "outputs": [
    {
     "data": {
      "text/plain": [
       "3857228"
      ]
     },
     "execution_count": 7,
     "metadata": {},
     "output_type": "execute_result"
    }
   ],
   "source": [
    "error_list[0]"
   ]
  },
  {
   "cell_type": "markdown",
   "metadata": {},
   "source": [
    "# 将没下载下来的，更新数据库，继续下载\n",
    "根据一个已经下载的列表，更新数据库\n",
    "已经下载列表要包含所有已经下载的视频，不仅是转的，还有没转的，还有百度网盘的。\n",
    "要先删除百度网盘中多余的。"
   ]
  },
  {
   "cell_type": "code",
   "execution_count": null,
   "metadata": {},
   "outputs": [],
   "source": []
  }
 ],
 "metadata": {
  "kernelspec": {
   "display_name": "Python 3",
   "language": "python",
   "name": "python3"
  },
  "language_info": {
   "codemirror_mode": {
    "name": "ipython",
    "version": 3
   },
   "file_extension": ".py",
   "mimetype": "text/x-python",
   "name": "python",
   "nbconvert_exporter": "python",
   "pygments_lexer": "ipython3",
   "version": "3.9.12"
  }
 },
 "nbformat": 4,
 "nbformat_minor": 2
}

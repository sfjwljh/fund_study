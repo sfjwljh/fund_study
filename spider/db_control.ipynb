{
 "cells": [
  {
   "cell_type": "code",
   "execution_count": 1,
   "metadata": {},
   "outputs": [],
   "source": [
    "# 创建db.pickle\n",
    "import pandas as pd\n",
    "\n",
    "# 创建空的二维表\n",
    "df = pd.DataFrame(columns=['code', 'date', 'title', 'company', 'host', 'catch_url', 'm3u8_url', 'downloaded', 'stt', 'key_word', 'abstract'])\n",
    "\n",
    "# 保存为pickle文件\n",
    "df.to_pickle('db.pickle')\n"
   ]
  },
  {
   "cell_type": "code",
   "execution_count": 2,
   "metadata": {},
   "outputs": [
    {
     "name": "stdout",
     "output_type": "stream",
     "text": [
      "[[4391395, '直播中', '2024赢在开局|华泰年度买方私享会', datetime.date(2024, 1, 18)], [4391376, '直播中', '2024年纳斯达克怎么投？', datetime.date(2024, 1, 18)], [4390851, '直播中', '全球周周谈 | 2024全球医药怎么投？', datetime.date(2024, 1, 18)], [4389944, '直播中', '如果基金投资是RPG游戏……', datetime.date(2024, 1, 18)], [4386599, '直播中', '2024美股看小盘科技？如何借基布局？', datetime.date(2024, 1, 18)], [4391502, '直播中', '量化新基问答专场', datetime.date(2024, 1, 18)], [4391471, '直播中', '基金二三事：多维度看基金投资', datetime.date(2024, 1, 18)], [4391464, '直播中', '走！去看火箭海上发射！', datetime.date(2024, 1, 18)], [4391244, '直播中', '新年黄金怎么看？', datetime.date(2024, 1, 18)], [4391491, '预告', '市场震荡？想要求稳这样投！', datetime.date(2024, 1, 18)], [4390454, '预告', '热点有约|创业板当前具备哪些投资价值', datetime.date(2024, 1, 18)], [4391230, '预告', '财经午餐|市场热点追踪1.18', datetime.date(2024, 1, 18)]]\n"
     ]
    }
   ],
   "source": [
    "# 用于临时测试\n",
    "\n",
    "# 读取soup的结果\n",
    "import pickle\n",
    "\n",
    "# 打开 pickle 文件\n",
    "with open('tmp.pkl', 'rb') as file:\n",
    "    # 读取列表对象\n",
    "    content = pickle.load(file)\n",
    "\n",
    "# 打印列表对象\n",
    "print(content)"
   ]
  },
  {
   "cell_type": "code",
   "execution_count": 17,
   "metadata": {},
   "outputs": [],
   "source": [
    "# 将html中内容输出为pickle\n",
    "import pandas as pd\n",
    "\n",
    "def html2db(html_content,path2db):\n",
    "    content=html_content\n",
    "    # 读取pickle文件为DataFrame对象\n",
    "    df = pd.read_pickle(path2db)\n",
    "    for line in content:\n",
    "        # 检查当前行是否存在\n",
    "        if (df['code'] == line[0]).any():\n",
    "            pass\n",
    "        else:\n",
    "            # 新建一行数据\n",
    "            new_row = {'code': line[0], 'date': line[3], 'title': line[2], 'company': '', 'host': '', 'catch_url': '', 'm3u8_url': '', 'downloaded': '', 'stt': '', 'key_word': '', 'abstract': ''}\n",
    "            # 将新行数据转换为DataFrame对象\n",
    "            new_df = pd.DataFrame([new_row])\n",
    "\n",
    "            # 将新行数据与原DataFrame对象进行合并\n",
    "            df = pd.concat([df, new_df], ignore_index=True)\n",
    "\n",
    "    df.to_pickle(path2db)\n"
   ]
  },
  {
   "cell_type": "code",
   "execution_count": 2,
   "metadata": {},
   "outputs": [],
   "source": [
    "import pandas as pd\n",
    "# 将db.pickle的pandas列表输出为csv进行展示\n",
    "def disp(path2db):\n",
    "    # 读取pickle文件为DataFrame对象\n",
    "    df = pd.read_pickle(path2db)\n",
    "\n",
    "    # 将DataFrame保存为csv文件\n",
    "    df.to_csv(path2db[:-6]+\"csv\", index=False)\n"
   ]
  },
  {
   "cell_type": "code",
   "execution_count": 3,
   "metadata": {},
   "outputs": [],
   "source": [
    "disp(r'E:\\obsidian\\研究生\\基金直播\\codes\\spider\\db.pickle')"
   ]
  }
 ],
 "metadata": {
  "kernelspec": {
   "display_name": "Python 3",
   "language": "python",
   "name": "python3"
  },
  "language_info": {
   "codemirror_mode": {
    "name": "ipython",
    "version": 3
   },
   "file_extension": ".py",
   "mimetype": "text/x-python",
   "name": "python",
   "nbconvert_exporter": "python",
   "pygments_lexer": "ipython3",
   "version": "3.9.12"
  }
 },
 "nbformat": 4,
 "nbformat_minor": 2
}

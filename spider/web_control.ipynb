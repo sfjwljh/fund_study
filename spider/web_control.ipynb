{
 "cells": [
  {
   "cell_type": "code",
   "execution_count": 75,
   "metadata": {},
   "outputs": [
    {
     "name": "stderr",
     "output_type": "stream",
     "text": [
      "C:\\Users\\Liu\\AppData\\Local\\Temp\\ipykernel_52020\\1287453994.py:12: DeprecationWarning: executable_path has been deprecated, please pass in a Service object\n",
      "  driver = webdriver.Edge(executable_path=webdriver_path)\n"
     ]
    }
   ],
   "source": [
    "from selenium import webdriver\n",
    "import time\n",
    "import csv\n",
    "from selenium import webdriver\n",
    "from selenium.webdriver.common.by import By\n",
    "from selenium.webdriver.common.keys import Keys\n",
    "\n",
    "# 指定Edge WebDriver的路径\n",
    "webdriver_path = r'E:\\obsidian\\Master\\fund_stream_project\\codes\\spider\\msedgedriver.exe'  # 替换成你的WebDriver路径\n",
    "\n",
    "# 创建Edge浏览器实例\n",
    "driver = webdriver.Edge(executable_path=webdriver_path)\n",
    "\n",
    "# 打开网页\n",
    "driver.get('https://roadshow.eastmoney.com/list?type=1')"
   ]
  },
  {
   "cell_type": "code",
   "execution_count": 76,
   "metadata": {},
   "outputs": [],
   "source": [
    "#点击 基金公司路演\n",
    "fund_company_button = driver.find_element(By.XPATH, \"/html/body/div[1]/div[2]/div[2]/div/div[2]/div/div/span[2]\")\n",
    "fund_company_button.click()"
   ]
  },
  {
   "cell_type": "code",
   "execution_count": 81,
   "metadata": {},
   "outputs": [],
   "source": [
    "# 点击 下一页\n",
    "def next_page():\n",
    "    next_page_button = driver.find_element(By.XPATH, \"/html/body/div[1]/div[2]/div[4]/ul/li[6]\")\n",
    "    next_page_button.click()"
   ]
  },
  {
   "cell_type": "code",
   "execution_count": 87,
   "metadata": {},
   "outputs": [],
   "source": [
    "# 跳转指定页\n",
    "def jump(page_num):\n",
    "    page=page_num\n",
    "    input_page_form = driver.find_element(By.XPATH, \"/html/body/div[1]/div[2]/div[4]/ul/form/input\")\n",
    "    input_page_form.send_keys(str(page))\n",
    "    time.sleep(0.4)\n",
    "    jump_page_bottom = driver.find_element(By.XPATH, \"/html/body/div[1]/div[2]/div[4]/ul/span\")\n",
    "    jump_page_bottom.click()\n",
    "\n"
   ]
  },
  {
   "cell_type": "code",
   "execution_count": 84,
   "metadata": {},
   "outputs": [],
   "source": [
    "next_page()"
   ]
  },
  {
   "cell_type": "code",
   "execution_count": 89,
   "metadata": {},
   "outputs": [],
   "source": [
    "jump(8)"
   ]
  },
  {
   "cell_type": "code",
   "execution_count": 50,
   "metadata": {},
   "outputs": [],
   "source": [
    "# 提取网页静态内容\n",
    "from bs4 import BeautifulSoup\n",
    "\n",
    "import datetime\n",
    "\n",
    "\n",
    "# 获取页面内容\n",
    "def soup_page():\n",
    "    result=[]\n",
    "    html = driver.page_source\n",
    "    # 解析HTML\n",
    "    soup = BeautifulSoup(html, 'html.parser')\n",
    "    # 提取所有class=\"item\"的块\n",
    "    items = soup.find_all('div', {'class': 'item'})\n",
    "    for item in items:\n",
    "        code = int(item.find('a')['href'].split('/')[-1])  #唯一编号\n",
    "        type = item.find('span', {'class': 'ly-type'}).text.strip()  #预告/直播中/回顾\n",
    "        if type!=\"回顾\":\n",
    "            continue\n",
    "        title = item.find('span', {'class': 'ly-title'}).text.strip() #标题\n",
    "        date = item.find('span', {'class': 'ly-time'}).text.strip().split(' ')[0] #日期\n",
    "        if date==\"今天\":\n",
    "            date=datetime.datetime.now().date()\n",
    "        else:\n",
    "            date=datetime.date(int(date.split('-')[0]),int(date.split('-')[1]),int(date.split('-')[2]))\n",
    "        result.append([code, type, title, date])\n",
    "    return result\n",
    "\n"
   ]
  },
  {
   "cell_type": "code",
   "execution_count": null,
   "metadata": {},
   "outputs": [],
   "source": [
    "page_content=soup_page()\n",
    "if len(page_content)==0:\n",
    "    next_page()"
   ]
  },
  {
   "cell_type": "code",
   "execution_count": 52,
   "metadata": {},
   "outputs": [
    {
     "data": {
      "text/plain": [
       "0"
      ]
     },
     "execution_count": 52,
     "metadata": {},
     "output_type": "execute_result"
    }
   ],
   "source": [
    "len(soup_page())"
   ]
  },
  {
   "cell_type": "code",
   "execution_count": 49,
   "metadata": {},
   "outputs": [],
   "source": [
    "import pickle\n",
    "\n",
    "\n",
    "\n",
    "# 将列表对象保存为 pickle 文件\n",
    "with open('tmp.pkl', 'wb') as file:\n",
    "    pickle.dump(soup_page(), file)"
   ]
  },
  {
   "cell_type": "code",
   "execution_count": 44,
   "metadata": {},
   "outputs": [
    {
     "data": {
      "text/plain": [
       "'https://roadshow.eastmoney.com/luyan/4388929'"
      ]
     },
     "execution_count": 44,
     "metadata": {},
     "output_type": "execute_result"
    }
   ],
   "source": [
    "# 进入一个视频\n",
    "code='4388929'\n",
    "page_url='https://roadshow.eastmoney.com/luyan/'+str(code)\n"
   ]
  }
 ],
 "metadata": {
  "kernelspec": {
   "display_name": "Python 3",
   "language": "python",
   "name": "python3"
  },
  "language_info": {
   "codemirror_mode": {
    "name": "ipython",
    "version": 3
   },
   "file_extension": ".py",
   "mimetype": "text/x-python",
   "name": "python",
   "nbconvert_exporter": "python",
   "pygments_lexer": "ipython3",
   "version": "3.9.13"
  }
 },
 "nbformat": 4,
 "nbformat_minor": 2
}

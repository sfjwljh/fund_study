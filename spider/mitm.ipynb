{
 "cells": [
  {
   "cell_type": "code",
   "execution_count": 15,
   "metadata": {},
   "outputs": [
    {
     "name": "stderr",
     "output_type": "stream",
     "text": [
      "C:\\Users\\Liu\\AppData\\Local\\Temp\\ipykernel_51672\\1249908285.py:12: DeprecationWarning: executable_path has been deprecated, please pass in a Service object\n",
      "  driver = webdriver.Edge(executable_path=webdriver_path)\n"
     ]
    },
    {
     "ename": "KeyboardInterrupt",
     "evalue": "",
     "output_type": "error",
     "traceback": [
      "\u001b[1;31m---------------------------------------------------------------------------\u001b[0m",
      "\u001b[1;31mKeyboardInterrupt\u001b[0m                         Traceback (most recent call last)",
      "Cell \u001b[1;32mIn[15], line 20\u001b[0m\n\u001b[0;32m     17\u001b[0m \u001b[38;5;66;03m# 创建Edge浏览器实例\u001b[39;00m\n\u001b[0;32m     18\u001b[0m \u001b[38;5;66;03m# 打开网页\u001b[39;00m\n\u001b[0;32m     19\u001b[0m driver\u001b[38;5;241m.\u001b[39mget(url)\n\u001b[1;32m---> 20\u001b[0m \u001b[43mtime\u001b[49m\u001b[38;5;241;43m.\u001b[39;49m\u001b[43msleep\u001b[49m\u001b[43m(\u001b[49m\u001b[38;5;241;43m1\u001b[39;49m\u001b[43m)\u001b[49m\n\u001b[0;32m     21\u001b[0m \u001b[38;5;28;01mtry\u001b[39;00m:\n\u001b[0;32m     22\u001b[0m     company_name\u001b[38;5;241m=\u001b[39mdriver\u001b[38;5;241m.\u001b[39mfind_element(By\u001b[38;5;241m.\u001b[39mXPATH, \u001b[38;5;124m\"\u001b[39m\u001b[38;5;124m/html/body/div[1]/div[2]/div[2]/div[1]/div[1]/div[3]/div[2]/p/a\u001b[39m\u001b[38;5;124m\"\u001b[39m)\u001b[38;5;241m.\u001b[39mtext\n",
      "\u001b[1;31mKeyboardInterrupt\u001b[0m: "
     ]
    }
   ],
   "source": [
    "import pandas as pd\n",
    "from selenium import webdriver\n",
    "from selenium.webdriver.common.by import By\n",
    "from selenium.webdriver.common.keys import Keys\n",
    "import time\n",
    "import os\n",
    "# 将db.pickle的pandas列表输出为csv进行展示\n",
    "db_path=r'E:\\obsidian\\研究生\\基金直播\\codes\\spider\\db.pickle'\n",
    "webdriver_path = r'E:\\obsidian\\研究生\\基金直播\\codes\\spider\\msedgedriver.exe'  # 替换成你的WebDriver路径\n",
    "mitm_file_path=r'E:\\obsidian\\研究生\\基金直播\\codes\\spider\\mitm_url.txt'\n",
    "\n",
    "driver = webdriver.Edge(executable_path=webdriver_path)\n",
    "df = pd.read_pickle(db_path)\n",
    "for index, row in df.iterrows():\n",
    "    if (row['host'] == '')or(row['catch_url'] == ''):\n",
    "        url='https://roadshow.eastmoney.com/luyan/'+str(row['code'])\n",
    "        # 创建Edge浏览器实例\n",
    "        # 打开网页\n",
    "        driver.get(url)\n",
    "        time.sleep(1)\n",
    "        try:\n",
    "            company_name=driver.find_element(By.XPATH, \"/html/body/div[1]/div[2]/div[2]/div[1]/div[1]/div[3]/div[2]/p/a\").text\n",
    "            row['company']=company_name\n",
    "            host_name=driver.find_element(By.XPATH, \"/html/body/div[1]/div[2]/div[2]/div[1]/div[3]/div[2]/ul/li/div[2]/h3\").text\n",
    "            row['host']=host_name\n",
    "            if os.path.exists(mitm_file_path):\n",
    "                os.remove(mitm_file_path)\n",
    "            paly_bottom=driver.find_element(By.XPATH, \"/html/body/div[1]/div[2]/div[2]/div[1]/div[1]/div[2]/div[1]/div/div/span[2]\")\n",
    "            paly_bottom.click()\n",
    "\n",
    "            time.sleep(1)\n",
    "            if not os.path.exists(mitm_file_path):\n",
    "                time.sleep(2)\n",
    "            if not os.path.exists(mitm_file_path):\n",
    "                time.sleep(3)\n",
    "            if not os.path.exists(mitm_file_path):\n",
    "                continue\n",
    "            row['catch_url']=pd.read_csv(mitm_file_path, header=None).iloc[0,0]\n",
    "            df.to_pickle(db_path)\n",
    "        except:\n",
    "            continue\n",
    "        \n"
   ]
  },
  {
   "cell_type": "code",
   "execution_count": 12,
   "metadata": {},
   "outputs": [
    {
     "name": "stdout",
     "output_type": "stream",
     "text": [
      "https://1500000598.vod2.myqcloud.com/6c97873evodcq1500000598/5157143a3270835015112514867/playlist_eof.m3u8\n"
     ]
    }
   ],
   "source": [
    "data = pd.read_csv(mitm_file_path, header=None).iloc[0,0]\n",
    "print(data)"
   ]
  }
 ],
 "metadata": {
  "kernelspec": {
   "display_name": "Python 3",
   "language": "python",
   "name": "python3"
  },
  "language_info": {
   "codemirror_mode": {
    "name": "ipython",
    "version": 3
   },
   "file_extension": ".py",
   "mimetype": "text/x-python",
   "name": "python",
   "nbconvert_exporter": "python",
   "pygments_lexer": "ipython3",
   "version": "3.9.13"
  }
 },
 "nbformat": 4,
 "nbformat_minor": 2
}

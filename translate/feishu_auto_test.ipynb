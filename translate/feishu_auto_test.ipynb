{
 "cells": [
  {
   "cell_type": "code",
   "execution_count": 47,
   "metadata": {},
   "outputs": [],
   "source": [
    "# 用selenium打开浏览器\n",
    "from selenium import webdriver\n",
    "from selenium.webdriver.edge.service import Service\n",
    "\n",
    "# 设置 Edge 浏览器驱动路径\n",
    "edge_driver_path = \"./msedgedriver.exe\"\n",
    "\n",
    "# 创建 Edge 浏览器服务\n",
    "service = Service(edge_driver_path)\n",
    "\n",
    "# 启动 Edge 浏览器\n",
    "driver = webdriver.Edge(service=service)\n",
    "\n",
    "# 打开网页\n",
    "driver.get(\"https://gfhvchfr2i.feishu.cn/minutes/home\")\n",
    "# driver.implicitly_wait(10)  # 设置隐式等待时间为10秒\n",
    "\n",
    "# 关闭浏览器"
   ]
  },
  {
   "cell_type": "code",
   "execution_count": 236,
   "metadata": {},
   "outputs": [],
   "source": [
    "from selenium.webdriver.common.by import By\n",
    "# 找到所有 class=\"list-table-body\" 的元素\n",
    "\n",
    "# list_table_body = driver.find_element(By.CLASS_NAME,\"list-table-body\")\n",
    "\n",
    "# 找到其中的所有 class=\"meeting-list-item-wrapper meeting-list-item-normal\" 的元素\n",
    "meeting_list_items = driver.find_elements(By.CLASS_NAME,\"meeting-list-item-home\")\n"
   ]
  },
  {
   "cell_type": "code",
   "execution_count": 10,
   "metadata": {},
   "outputs": [
    {
     "data": {
      "text/plain": [
       "'4357014'"
      ]
     },
     "execution_count": 10,
     "metadata": {},
     "output_type": "execute_result"
    }
   ],
   "source": [
    "meeting_list_items[0].find_element(By.CLASS_NAME,\"no-tag\").text\n",
    "# meeting_list_items[0].find_element(By.CLASS_NAME,\"meeting-list-item-state\").text"
   ]
  },
  {
   "cell_type": "code",
   "execution_count": 20,
   "metadata": {},
   "outputs": [
    {
     "name": "stdout",
     "output_type": "stream",
     "text": [
      "199\n"
     ]
    }
   ],
   "source": [
    "# # 定位到需要滚动的flex框\n",
    "# flex_box = driver.find_element(By.CSS_SELECTOR,\"#app > div > div.mm-layout > div.mm-content-outside > div.mm-content > div.list-table\")\n",
    "\n",
    "# # 定义JavaScript代码，用来将flex框内部滚动到底部\n",
    "# scroll_to_bottom_script = \"\"\"\n",
    "#     var flexBox = arguments[0];\n",
    "#     flexBox.scrollTop = flexBox.scrollHeight;\n",
    "# \"\"\"\n",
    "\n",
    "# # 执行JavaScript代码\n",
    "# driver.execute_script(scroll_to_bottom_script, flex_box)\n",
    "print(len(meeting_list_items))"
   ]
  },
  {
   "cell_type": "code",
   "execution_count": 240,
   "metadata": {},
   "outputs": [
    {
     "name": "stdout",
     "output_type": "stream",
     "text": [
      "正在处理4357656\n"
     ]
    }
   ],
   "source": [
    "from selenium.webdriver.support.ui import WebDriverWait\n",
    "from selenium.webdriver.support import expected_conditions as EC\n",
    "import time\n",
    "# 遍历每个元素\n",
    "for item in meeting_list_items[3:4]:\n",
    "    print(\"正在处理\"+item.find_element(By.CLASS_NAME,\"no-tag\").text)\n",
    "    \n",
    "    # 跳过 class=\"meeting-list-item-state\" 不为空的元素,这是没转录好的\n",
    "    if len(item.find_element(By.CLASS_NAME,\"meeting-list-item-state\").text)>0:\n",
    "        print(\"working\")\n",
    "        continue\n",
    "    else: \n",
    "        # # 如果找不到，说明已经转好了，则进入链接\n",
    "\n",
    "        # link = item.get_attribute(\"href\")\n",
    "\n",
    "        # # print(link)\n",
    "\n",
    "        # # print(item)# 打开一个新窗口并加载给定的URL\n",
    "        # driver.execute_script(\"window.open('\"+link+\"', '_blank');\")\n",
    "\n",
    "        # # 获取所有窗口句柄\n",
    "        # window_handles = driver.window_handles\n",
    "\n",
    "        # # 切换到新窗口\n",
    "        # driver.switch_to.window(window_handles[-1])\n",
    "\n",
    "        # 删除\n",
    "        item.find_element(By.CLASS_NAME,'meeting-list-item-delete').click()\n",
    "\n",
    "        # 使用 XPath 找到包含文本“移除”的元素并点击它\n",
    "        element = driver.find_element(By.XPATH,\"//*[contains(text(), '移除')]\")\n",
    "        element.click()\n",
    "\n",
    "        # element = WebDriverWait(driver, 3).until(\n",
    "        #     EC.visibility_of_element_located((By.XPATH, \"/html/body/div[1]/div/div[1]/div[2]/div[2]/div[3]/div/div[1]/div/div/div/ul/li[4]\"))\n",
    "        # )\n",
    "        # element.click()\n",
    "        time.sleep(0.5)\n",
    "        driver.find_element(By.CLASS_NAME,'checkbox-container').click()\n",
    "        time.sleep(0.5)\n",
    "        driver.find_element(By.CLASS_NAME,'ud__button--filled-danger').click()\n",
    "\n",
    "        break"
   ]
  },
  {
   "cell_type": "code",
   "execution_count": 226,
   "metadata": {},
   "outputs": [],
   "source": [
    "from selenium.webdriver.common.action_chains import ActionChains\n",
    "from selenium.webdriver.common.by import By\n",
    "from selenium.webdriver.common.keys import Keys\n",
    "import time\n",
    "from selenium.webdriver.support import expected_conditions as EC\n",
    "# 定位按钮 A\n",
    "# button_a = driver.find_element(By.CLASS_NAME,\"universe-icon\")\n",
    "button_a = driver.find_element(By.XPATH,\"/html/body/div[1]/div/div/div/div[3]/div/div[1]/div/div[4]/div[1]/div/span[2]/button/span\")\n",
    "\n",
    "# 创建 ActionChains 对象\n",
    "actions = ActionChains(driver)\n",
    "\n",
    "# 在按钮 A 上执行悬停操作\n",
    "actions.move_to_element(button_a).perform()\n",
    "time.sleep(0.7)\n",
    "# # 等待列表 B 出现\n",
    "# wait = WebDriverWait(driver, 10)\n",
    "# list_b = wait.until(EC.visibility_of_element_located((By.XPATH, \"//xpath_of_list_B\")))\n",
    "\n",
    "button_b = driver.find_element(By.XPATH,\"/html/body/div[6]/div/div/ul/li[1]\")\n",
    "actions.move_to_element(button_b).perform()\n",
    "button_b.click()\n",
    "# 定位列表 B 中的按钮，并点击\n",
    "# button_in_list_b = driver.find_element(By.XPATH,\"/html/body/div[6]/div/div/ul/li[1]/div\")\n",
    "# button_in_list_b.click()"
   ]
  },
  {
   "cell_type": "code",
   "execution_count": 227,
   "metadata": {},
   "outputs": [],
   "source": [
    "from selenium.webdriver.support.ui import WebDriverWait\n",
    "\n",
    "# driver.find_element(By.XPATH,'/html/body/div[7]/div/div[3]/div/div/div/div[2]/div/div[3]/label/span[2]').click()\n",
    "click_=driver.find_elements(By.CLASS_NAME,'ud__checkbox__label-content')\n",
    "for button in click_:\n",
    "    button.click()\n",
    "\n",
    "actions = ActionChains(driver)\n",
    "# driver.find_element(By.XPATH,'/html/body/div[8]/div/div[3]/div/div/div/div[2]/div/div[2]/div/div[1]/div[1]').click()\n",
    "# driver.find_element(By.CLASS_NAME,'ud__select__selector__content').click()\n",
    "button=driver.find_element(By.CLASS_NAME,'ud__select__selector__content')\n",
    "\n",
    "actions.move_to_element(button).click().perform()\n",
    "\n",
    "\n",
    "time.sleep(0.5)\n",
    "\n",
    "# 在页面上模拟按下方向下键和回车键\n",
    "actions.send_keys(Keys.ARROW_DOWN).send_keys(Keys.ENTER).perform()\n",
    "time.sleep(1)\n",
    "\n",
    "# driver.find_element(By.XPATH,'/html/body/div[6]/div/div/div/div/div/div/div[1]/div/div/div[2]/div/div[1]').click()\n",
    "# driver.find_element(By.CLASS_NAME,'ud__button--filled').click()\n",
    "driver.find_element(By.XPATH,'/html/body/div[7]/div/div[3]/div/div/div/div[3]/div/button[1]').click()\n",
    "time.sleep(1)\n",
    "driver.close()\n",
    "driver.switch_to.window(window_handles[0])"
   ]
  },
  {
   "cell_type": "code",
   "execution_count": 204,
   "metadata": {},
   "outputs": [],
   "source": [
    "driver.switch_to.window(window_handles[0])"
   ]
  },
  {
   "cell_type": "code",
   "execution_count": 174,
   "metadata": {},
   "outputs": [],
   "source": [
    "builder = ActionChains(driver)\n",
    "builder.send_keys(Keys.F12).perform()"
   ]
  },
  {
   "cell_type": "code",
   "execution_count": 175,
   "metadata": {},
   "outputs": [
    {
     "ename": "JavascriptException",
     "evalue": "Message: javascript error: Cannot read properties of undefined (reading 'open')\n  (Session info: MicrosoftEdge=122.0.2365.52)\nStacktrace:\n\tGetHandleVerifier [0x00007FF634A55D42+55138]\n\tMicrosoft::Applications::Events::ILogConfiguration::operator* [0x00007FF6349E21C2+219010]\n\t(No symbol) [0x00007FF634813407]\n\t(No symbol) [0x00007FF634818131]\n\t(No symbol) [0x00007FF63481A046]\n\t(No symbol) [0x00007FF634892941]\n\t(No symbol) [0x00007FF634878E0A]\n\t(No symbol) [0x00007FF63484F017]\n\t(No symbol) [0x00007FF634891F59]\n\t(No symbol) [0x00007FF634878A73]\n\t(No symbol) [0x00007FF63484E53E]\n\t(No symbol) [0x00007FF63484D6FC]\n\t(No symbol) [0x00007FF63484E0F1]\n\tMicrosoft::Applications::Events::EventProperty::to_string [0x00007FF634C0ED2C+1067068]\n\t(No symbol) [0x00007FF6348C33C6]\n\t(No symbol) [0x00007FF63495CFAC]\n\t(No symbol) [0x00007FF634954978]\n\tMicrosoft::Applications::Events::EventProperty::to_string [0x00007FF634C0DC75+1062789]\n\tMicrosoft::Applications::Events::ILogConfiguration::operator* [0x00007FF6349EBBB1+258417]\n\tMicrosoft::Applications::Events::ILogConfiguration::operator* [0x00007FF6349E6AB4+237684]\n\tMicrosoft::Applications::Events::ILogConfiguration::operator* [0x00007FF6349E6BEF+237999]\n\tMicrosoft::Applications::Events::ILogConfiguration::operator* [0x00007FF6349DD6A1+199777]\n\tBaseThreadInitThunk [0x00007FFC5556257D+29]\n\tRtlUserThreadStart [0x00007FFC56A0AA58+40]\n",
     "output_type": "error",
     "traceback": [
      "\u001b[1;31m---------------------------------------------------------------------------\u001b[0m",
      "\u001b[1;31mJavascriptException\u001b[0m                       Traceback (most recent call last)",
      "Cell \u001b[1;32mIn[175], line 1\u001b[0m\n\u001b[1;32m----> 1\u001b[0m \u001b[43mdriver\u001b[49m\u001b[38;5;241;43m.\u001b[39;49m\u001b[43mexecute_script\u001b[49m\u001b[43m(\u001b[49m\u001b[38;5;124;43m\"\u001b[39;49m\u001b[38;5;124;43mwindow.devtools.open();\u001b[39;49m\u001b[38;5;124;43m\"\u001b[39;49m\u001b[43m)\u001b[49m\n",
      "File \u001b[1;32mc:\\Users\\Liu\\AppData\\Local\\Programs\\Python\\Python39\\lib\\site-packages\\selenium\\webdriver\\remote\\webdriver.py:500\u001b[0m, in \u001b[0;36mWebDriver.execute_script\u001b[1;34m(self, script, *args)\u001b[0m\n\u001b[0;32m    497\u001b[0m converted_args \u001b[38;5;241m=\u001b[39m \u001b[38;5;28mlist\u001b[39m(args)\n\u001b[0;32m    498\u001b[0m command \u001b[38;5;241m=\u001b[39m Command\u001b[38;5;241m.\u001b[39mW3C_EXECUTE_SCRIPT\n\u001b[1;32m--> 500\u001b[0m \u001b[38;5;28;01mreturn\u001b[39;00m \u001b[38;5;28;43mself\u001b[39;49m\u001b[38;5;241;43m.\u001b[39;49m\u001b[43mexecute\u001b[49m\u001b[43m(\u001b[49m\u001b[43mcommand\u001b[49m\u001b[43m,\u001b[49m\u001b[43m \u001b[49m\u001b[43m{\u001b[49m\u001b[38;5;124;43m\"\u001b[39;49m\u001b[38;5;124;43mscript\u001b[39;49m\u001b[38;5;124;43m\"\u001b[39;49m\u001b[43m:\u001b[49m\u001b[43m \u001b[49m\u001b[43mscript\u001b[49m\u001b[43m,\u001b[49m\u001b[43m \u001b[49m\u001b[38;5;124;43m\"\u001b[39;49m\u001b[38;5;124;43margs\u001b[39;49m\u001b[38;5;124;43m\"\u001b[39;49m\u001b[43m:\u001b[49m\u001b[43m \u001b[49m\u001b[43mconverted_args\u001b[49m\u001b[43m}\u001b[49m\u001b[43m)\u001b[49m[\u001b[38;5;124m\"\u001b[39m\u001b[38;5;124mvalue\u001b[39m\u001b[38;5;124m\"\u001b[39m]\n",
      "File \u001b[1;32mc:\\Users\\Liu\\AppData\\Local\\Programs\\Python\\Python39\\lib\\site-packages\\selenium\\webdriver\\remote\\webdriver.py:440\u001b[0m, in \u001b[0;36mWebDriver.execute\u001b[1;34m(self, driver_command, params)\u001b[0m\n\u001b[0;32m    438\u001b[0m response \u001b[38;5;241m=\u001b[39m \u001b[38;5;28mself\u001b[39m\u001b[38;5;241m.\u001b[39mcommand_executor\u001b[38;5;241m.\u001b[39mexecute(driver_command, params)\n\u001b[0;32m    439\u001b[0m \u001b[38;5;28;01mif\u001b[39;00m response:\n\u001b[1;32m--> 440\u001b[0m     \u001b[38;5;28;43mself\u001b[39;49m\u001b[38;5;241;43m.\u001b[39;49m\u001b[43merror_handler\u001b[49m\u001b[38;5;241;43m.\u001b[39;49m\u001b[43mcheck_response\u001b[49m\u001b[43m(\u001b[49m\u001b[43mresponse\u001b[49m\u001b[43m)\u001b[49m\n\u001b[0;32m    441\u001b[0m     response[\u001b[38;5;124m\"\u001b[39m\u001b[38;5;124mvalue\u001b[39m\u001b[38;5;124m\"\u001b[39m] \u001b[38;5;241m=\u001b[39m \u001b[38;5;28mself\u001b[39m\u001b[38;5;241m.\u001b[39m_unwrap_value(response\u001b[38;5;241m.\u001b[39mget(\u001b[38;5;124m\"\u001b[39m\u001b[38;5;124mvalue\u001b[39m\u001b[38;5;124m\"\u001b[39m, \u001b[38;5;28;01mNone\u001b[39;00m))\n\u001b[0;32m    442\u001b[0m     \u001b[38;5;28;01mreturn\u001b[39;00m response\n",
      "File \u001b[1;32mc:\\Users\\Liu\\AppData\\Local\\Programs\\Python\\Python39\\lib\\site-packages\\selenium\\webdriver\\remote\\errorhandler.py:245\u001b[0m, in \u001b[0;36mErrorHandler.check_response\u001b[1;34m(self, response)\u001b[0m\n\u001b[0;32m    243\u001b[0m         alert_text \u001b[38;5;241m=\u001b[39m value[\u001b[38;5;124m\"\u001b[39m\u001b[38;5;124malert\u001b[39m\u001b[38;5;124m\"\u001b[39m]\u001b[38;5;241m.\u001b[39mget(\u001b[38;5;124m\"\u001b[39m\u001b[38;5;124mtext\u001b[39m\u001b[38;5;124m\"\u001b[39m)\n\u001b[0;32m    244\u001b[0m     \u001b[38;5;28;01mraise\u001b[39;00m exception_class(message, screen, stacktrace, alert_text)  \u001b[38;5;66;03m# type: ignore[call-arg]  # mypy is not smart enough here\u001b[39;00m\n\u001b[1;32m--> 245\u001b[0m \u001b[38;5;28;01mraise\u001b[39;00m exception_class(message, screen, stacktrace)\n",
      "\u001b[1;31mJavascriptException\u001b[0m: Message: javascript error: Cannot read properties of undefined (reading 'open')\n  (Session info: MicrosoftEdge=122.0.2365.52)\nStacktrace:\n\tGetHandleVerifier [0x00007FF634A55D42+55138]\n\tMicrosoft::Applications::Events::ILogConfiguration::operator* [0x00007FF6349E21C2+219010]\n\t(No symbol) [0x00007FF634813407]\n\t(No symbol) [0x00007FF634818131]\n\t(No symbol) [0x00007FF63481A046]\n\t(No symbol) [0x00007FF634892941]\n\t(No symbol) [0x00007FF634878E0A]\n\t(No symbol) [0x00007FF63484F017]\n\t(No symbol) [0x00007FF634891F59]\n\t(No symbol) [0x00007FF634878A73]\n\t(No symbol) [0x00007FF63484E53E]\n\t(No symbol) [0x00007FF63484D6FC]\n\t(No symbol) [0x00007FF63484E0F1]\n\tMicrosoft::Applications::Events::EventProperty::to_string [0x00007FF634C0ED2C+1067068]\n\t(No symbol) [0x00007FF6348C33C6]\n\t(No symbol) [0x00007FF63495CFAC]\n\t(No symbol) [0x00007FF634954978]\n\tMicrosoft::Applications::Events::EventProperty::to_string [0x00007FF634C0DC75+1062789]\n\tMicrosoft::Applications::Events::ILogConfiguration::operator* [0x00007FF6349EBBB1+258417]\n\tMicrosoft::Applications::Events::ILogConfiguration::operator* [0x00007FF6349E6AB4+237684]\n\tMicrosoft::Applications::Events::ILogConfiguration::operator* [0x00007FF6349E6BEF+237999]\n\tMicrosoft::Applications::Events::ILogConfiguration::operator* [0x00007FF6349DD6A1+199777]\n\tBaseThreadInitThunk [0x00007FFC5556257D+29]\n\tRtlUserThreadStart [0x00007FFC56A0AA58+40]\n"
     ]
    }
   ],
   "source": [
    "driver.execute_script(\"window.devtools.open();\")"
   ]
  },
  {
   "cell_type": "markdown",
   "metadata": {},
   "source": [
    "# chrome"
   ]
  },
  {
   "cell_type": "code",
   "execution_count": 188,
   "metadata": {},
   "outputs": [
    {
     "name": "stderr",
     "output_type": "stream",
     "text": [
      "C:\\Users\\Liu\\AppData\\Local\\Temp\\ipykernel_29396\\2041124377.py:9: DeprecationWarning: executable_path has been deprecated, please pass in a Service object\n",
      "  driver = webdriver.Chrome(chrome_options=option,executable_path=webdriver_path)\n",
      "C:\\Users\\Liu\\AppData\\Local\\Temp\\ipykernel_29396\\2041124377.py:9: DeprecationWarning: use options instead of chrome_options\n",
      "  driver = webdriver.Chrome(chrome_options=option,executable_path=webdriver_path)\n"
     ]
    }
   ],
   "source": [
    "\n",
    "from selenium import webdriver\n",
    "from selenium.webdriver.chrome.options import Options\n",
    "\n",
    "option = Options()\n",
    "# 开启开发者工具（F12）\n",
    "option.add_argument(\"--auto-open-devtools-for-tabs\")\n",
    "# options.add_argument('--headless')  # 启用无头模式\n",
    "webdriver_path = \"d:\\迅雷下载\\chromedriver-win64\\chromedriver.exe\"\n",
    "driver = webdriver.Chrome(chrome_options=option,executable_path=webdriver_path)\n",
    "# 指定 Chrome WebDriver 的路径\n",
    "\n",
    "\n",
    "\n",
    "# 打开页面\n",
    "driver.get(\"https://gfhvchfr2i.feishu.cn/minutes/home\")\n"
   ]
  },
  {
   "cell_type": "code",
   "execution_count": 185,
   "metadata": {},
   "outputs": [],
   "source": [
    "from selenium.webdriver.common.keys import Keys\n",
    "from selenium.webdriver.common.action_chains import ActionChains\n",
    "builder = ActionChains(driver)\n",
    "builder.key_down(Keys.F12).perform()"
   ]
  },
  {
   "cell_type": "code",
   "execution_count": 268,
   "metadata": {},
   "outputs": [
    {
     "name": "stderr",
     "output_type": "stream",
     "text": [
      "C:\\Users\\Liu\\AppData\\Local\\Temp\\ipykernel_29396\\1418350433.py:14: DeprecationWarning: executable_path has been deprecated, please pass in a Service object\n",
      "  driver = webdriver.Chrome(chrome_options=option,executable_path=webdriver_path)\n",
      "C:\\Users\\Liu\\AppData\\Local\\Temp\\ipykernel_29396\\1418350433.py:14: DeprecationWarning: use options instead of chrome_options\n",
      "  driver = webdriver.Chrome(chrome_options=option,executable_path=webdriver_path)\n"
     ]
    }
   ],
   "source": [
    "from selenium import webdriver\n",
    "from selenium.webdriver.chrome.options import Options\n",
    "from selenium.webdriver.common.by import By\n",
    "import time\n",
    "from selenium.webdriver.support.ui import WebDriverWait\n",
    "from selenium.webdriver.support import expected_conditions as EC\n",
    "from selenium.webdriver.common.action_chains import ActionChains\n",
    "from selenium.webdriver.common.keys import Keys\n",
    "option = Options()\n",
    "# 开启开发者工具（F12）\n",
    "option.add_argument(\"--auto-open-devtools-for-tabs\")\n",
    "# options.add_argument('--headless')  # 启用无头模式\n",
    "webdriver_path = \"d:\\迅雷下载\\chromedriver-win64\\chromedriver.exe\"\n",
    "driver = webdriver.Chrome(chrome_options=option,executable_path=webdriver_path)\n",
    "# 指定 Chrome WebDriver 的路径\n",
    "\n",
    "# 打开页面\n",
    "driver.get(\"https://gfhvchfr2i.feishu.cn/minutes/home\")\n",
    "\n",
    "time.sleep(10)\n",
    "\n",
    "\n",
    "# 找到其中的所有 class=\"meeting-list-item-wrapper meeting-list-item-normal\" 的元素\n",
    "meeting_list_items = driver.find_elements(By.CLASS_NAME,\"meeting-list-item-home\")\n",
    "\n",
    "\n",
    "\n",
    "# 遍历每个元素\n",
    "item=meeting_list_items[0]\n",
    "\n",
    "# 如果找不到，说明已经转好了，则进入链接\n",
    "link = item.get_attribute(\"href\")\n",
    "\n",
    "# print(item)# 打开一个新窗口并加载给定的URL\n",
    "driver.execute_script(\"window.open('\"+link+\"', '_blank');\")\n",
    "# 获取所有窗口句柄\n",
    "window_handles = driver.window_handles\n",
    "time.sleep(1)\n",
    "# 切换到新窗口\n",
    "\n",
    "time.sleep(1)\n",
    "\n",
    "# 定位右上角\n",
    "# button_a = driver.find_element(By.CLASS_NAME,\"universe-icon\")\n",
    "                                        #  /html/body/div[1]/div/div/div/div[3]/div/div[1]/div/div[4]/div[1]/div/span[2]/button/span/svg\n",
    "                                        #  /html/body/div[1]/div/div/div/div[3]/div/div[1]/div/div[4]/div[1]/div/span[2]/button\n",
    "\n",
    "        "
   ]
  },
  {
   "cell_type": "code",
   "execution_count": 270,
   "metadata": {},
   "outputs": [],
   "source": [
    "button_a = driver.find_element(By.XPATH,\"/html/body/div[1]/div/div/div/div[3]/div/div[1]/div/div[4]/div[1]/div/span[2]/button/span\")"
   ]
  },
  {
   "cell_type": "code",
   "execution_count": 271,
   "metadata": {},
   "outputs": [],
   "source": [
    "button_a = driver.find_element(By.CLASS_NAME,\"universe-icon\")"
   ]
  },
  {
   "cell_type": "code",
   "execution_count": 273,
   "metadata": {},
   "outputs": [],
   "source": [
    "# 创建 ActionChains 对象\n",
    "actions = ActionChains(driver)\n",
    "\n",
    "# 在按钮 A 上执行悬停操作\n",
    "actions.move_to_element(button_a).perform()"
   ]
  },
  {
   "cell_type": "code",
   "execution_count": 274,
   "metadata": {},
   "outputs": [],
   "source": [
    "button_a.click()"
   ]
  },
  {
   "cell_type": "code",
   "execution_count": 263,
   "metadata": {},
   "outputs": [
    {
     "ename": "NoSuchWindowException",
     "evalue": "Message: no such window: target window already closed\nfrom unknown error: web view not found\n  (Session info: chrome=122.0.6261.95)\nStacktrace:\n\tGetHandleVerifier [0x00007FF73EEFAD22+56930]\n\t(No symbol) [0x00007FF73EE6F622]\n\t(No symbol) [0x00007FF73ED242E5]\n\t(No symbol) [0x00007FF73ED01D4C]\n\t(No symbol) [0x00007FF73ED923F7]\n\t(No symbol) [0x00007FF73ED98942]\n\t(No symbol) [0x00007FF73ED8BC60]\n\t(No symbol) [0x00007FF73ED5D438]\n\t(No symbol) [0x00007FF73ED5E4D1]\n\tGetHandleVerifier [0x00007FF73F276AAD+3709933]\n\tGetHandleVerifier [0x00007FF73F2CFFED+4075821]\n\tGetHandleVerifier [0x00007FF73F2C817F+4043455]\n\tGetHandleVerifier [0x00007FF73EF99756+706710]\n\t(No symbol) [0x00007FF73EE7B8FF]\n\t(No symbol) [0x00007FF73EE76AE4]\n\t(No symbol) [0x00007FF73EE76C3C]\n\t(No symbol) [0x00007FF73EE668F4]\n\tBaseThreadInitThunk [0x00007FFC5556257D+29]\n\tRtlUserThreadStart [0x00007FFC56A0AA58+40]\n",
     "output_type": "error",
     "traceback": [
      "\u001b[1;31m---------------------------------------------------------------------------\u001b[0m",
      "\u001b[1;31mNoSuchWindowException\u001b[0m                     Traceback (most recent call last)",
      "Cell \u001b[1;32mIn[263], line 1\u001b[0m\n\u001b[1;32m----> 1\u001b[0m \u001b[43mdriver\u001b[49m\u001b[38;5;241;43m.\u001b[39;49m\u001b[43mclose\u001b[49m\u001b[43m(\u001b[49m\u001b[43m)\u001b[49m\n",
      "File \u001b[1;32mc:\\Users\\Liu\\AppData\\Local\\Programs\\Python\\Python39\\lib\\site-packages\\selenium\\webdriver\\remote\\webdriver.py:551\u001b[0m, in \u001b[0;36mWebDriver.close\u001b[1;34m(self)\u001b[0m\n\u001b[0;32m    543\u001b[0m \u001b[38;5;28;01mdef\u001b[39;00m \u001b[38;5;21mclose\u001b[39m(\u001b[38;5;28mself\u001b[39m) \u001b[38;5;241m-\u001b[39m\u001b[38;5;241m>\u001b[39m \u001b[38;5;28;01mNone\u001b[39;00m:\n\u001b[0;32m    544\u001b[0m     \u001b[38;5;124;03m\"\"\"Closes the current window.\u001b[39;00m\n\u001b[0;32m    545\u001b[0m \n\u001b[0;32m    546\u001b[0m \u001b[38;5;124;03m    :Usage:\u001b[39;00m\n\u001b[1;32m   (...)\u001b[0m\n\u001b[0;32m    549\u001b[0m \u001b[38;5;124;03m            driver.close()\u001b[39;00m\n\u001b[0;32m    550\u001b[0m \u001b[38;5;124;03m    \"\"\"\u001b[39;00m\n\u001b[1;32m--> 551\u001b[0m     \u001b[38;5;28;43mself\u001b[39;49m\u001b[38;5;241;43m.\u001b[39;49m\u001b[43mexecute\u001b[49m\u001b[43m(\u001b[49m\u001b[43mCommand\u001b[49m\u001b[38;5;241;43m.\u001b[39;49m\u001b[43mCLOSE\u001b[49m\u001b[43m)\u001b[49m\n",
      "File \u001b[1;32mc:\\Users\\Liu\\AppData\\Local\\Programs\\Python\\Python39\\lib\\site-packages\\selenium\\webdriver\\remote\\webdriver.py:440\u001b[0m, in \u001b[0;36mWebDriver.execute\u001b[1;34m(self, driver_command, params)\u001b[0m\n\u001b[0;32m    438\u001b[0m response \u001b[38;5;241m=\u001b[39m \u001b[38;5;28mself\u001b[39m\u001b[38;5;241m.\u001b[39mcommand_executor\u001b[38;5;241m.\u001b[39mexecute(driver_command, params)\n\u001b[0;32m    439\u001b[0m \u001b[38;5;28;01mif\u001b[39;00m response:\n\u001b[1;32m--> 440\u001b[0m     \u001b[38;5;28;43mself\u001b[39;49m\u001b[38;5;241;43m.\u001b[39;49m\u001b[43merror_handler\u001b[49m\u001b[38;5;241;43m.\u001b[39;49m\u001b[43mcheck_response\u001b[49m\u001b[43m(\u001b[49m\u001b[43mresponse\u001b[49m\u001b[43m)\u001b[49m\n\u001b[0;32m    441\u001b[0m     response[\u001b[38;5;124m\"\u001b[39m\u001b[38;5;124mvalue\u001b[39m\u001b[38;5;124m\"\u001b[39m] \u001b[38;5;241m=\u001b[39m \u001b[38;5;28mself\u001b[39m\u001b[38;5;241m.\u001b[39m_unwrap_value(response\u001b[38;5;241m.\u001b[39mget(\u001b[38;5;124m\"\u001b[39m\u001b[38;5;124mvalue\u001b[39m\u001b[38;5;124m\"\u001b[39m, \u001b[38;5;28;01mNone\u001b[39;00m))\n\u001b[0;32m    442\u001b[0m     \u001b[38;5;28;01mreturn\u001b[39;00m response\n",
      "File \u001b[1;32mc:\\Users\\Liu\\AppData\\Local\\Programs\\Python\\Python39\\lib\\site-packages\\selenium\\webdriver\\remote\\errorhandler.py:245\u001b[0m, in \u001b[0;36mErrorHandler.check_response\u001b[1;34m(self, response)\u001b[0m\n\u001b[0;32m    243\u001b[0m         alert_text \u001b[38;5;241m=\u001b[39m value[\u001b[38;5;124m\"\u001b[39m\u001b[38;5;124malert\u001b[39m\u001b[38;5;124m\"\u001b[39m]\u001b[38;5;241m.\u001b[39mget(\u001b[38;5;124m\"\u001b[39m\u001b[38;5;124mtext\u001b[39m\u001b[38;5;124m\"\u001b[39m)\n\u001b[0;32m    244\u001b[0m     \u001b[38;5;28;01mraise\u001b[39;00m exception_class(message, screen, stacktrace, alert_text)  \u001b[38;5;66;03m# type: ignore[call-arg]  # mypy is not smart enough here\u001b[39;00m\n\u001b[1;32m--> 245\u001b[0m \u001b[38;5;28;01mraise\u001b[39;00m exception_class(message, screen, stacktrace)\n",
      "\u001b[1;31mNoSuchWindowException\u001b[0m: Message: no such window: target window already closed\nfrom unknown error: web view not found\n  (Session info: chrome=122.0.6261.95)\nStacktrace:\n\tGetHandleVerifier [0x00007FF73EEFAD22+56930]\n\t(No symbol) [0x00007FF73EE6F622]\n\t(No symbol) [0x00007FF73ED242E5]\n\t(No symbol) [0x00007FF73ED01D4C]\n\t(No symbol) [0x00007FF73ED923F7]\n\t(No symbol) [0x00007FF73ED98942]\n\t(No symbol) [0x00007FF73ED8BC60]\n\t(No symbol) [0x00007FF73ED5D438]\n\t(No symbol) [0x00007FF73ED5E4D1]\n\tGetHandleVerifier [0x00007FF73F276AAD+3709933]\n\tGetHandleVerifier [0x00007FF73F2CFFED+4075821]\n\tGetHandleVerifier [0x00007FF73F2C817F+4043455]\n\tGetHandleVerifier [0x00007FF73EF99756+706710]\n\t(No symbol) [0x00007FF73EE7B8FF]\n\t(No symbol) [0x00007FF73EE76AE4]\n\t(No symbol) [0x00007FF73EE76C3C]\n\t(No symbol) [0x00007FF73EE668F4]\n\tBaseThreadInitThunk [0x00007FFC5556257D+29]\n\tRtlUserThreadStart [0x00007FFC56A0AA58+40]\n"
     ]
    }
   ],
   "source": [
    "driver.close()"
   ]
  },
  {
   "cell_type": "code",
   "execution_count": 269,
   "metadata": {},
   "outputs": [],
   "source": [
    "driver.switch_to.window(window_handles[1])"
   ]
  },
  {
   "cell_type": "code",
   "execution_count": 257,
   "metadata": {},
   "outputs": [
    {
     "data": {
      "text/plain": [
       "3"
      ]
     },
     "execution_count": 257,
     "metadata": {},
     "output_type": "execute_result"
    }
   ],
   "source": [
    "len(window_handles)"
   ]
  }
 ],
 "metadata": {
  "kernelspec": {
   "display_name": "Python 3",
   "language": "python",
   "name": "python3"
  },
  "language_info": {
   "codemirror_mode": {
    "name": "ipython",
    "version": 3
   },
   "file_extension": ".py",
   "mimetype": "text/x-python",
   "name": "python",
   "nbconvert_exporter": "python",
   "pygments_lexer": "ipython3",
   "version": "3.9.13"
  }
 },
 "nbformat": 4,
 "nbformat_minor": 2
}

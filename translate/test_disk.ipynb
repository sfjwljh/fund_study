{
 "cells": [
  {
   "cell_type": "code",
   "execution_count": 10,
   "metadata": {},
   "outputs": [],
   "source": [
    "import os\n",
    "import sys\n",
    "BASE_DIR = os.path.dirname(os.getcwd())\n",
    "sys.path.append(BASE_DIR)\n"
   ]
  },
  {
   "cell_type": "code",
   "execution_count": 9,
   "metadata": {},
   "outputs": [
    {
     "data": {
      "text/plain": [
       "'e:\\\\obsidian\\\\研究生\\\\基金直播\\\\codes'"
      ]
     },
     "execution_count": 9,
     "metadata": {},
     "output_type": "execute_result"
    }
   ],
   "source": [
    "BASE_DIR"
   ]
  },
  {
   "cell_type": "code",
   "execution_count": 11,
   "metadata": {},
   "outputs": [
    {
     "data": {
      "text/plain": [
       "['e:\\\\obsidian\\\\研究生\\\\基金直播\\\\codes\\\\translate',\n",
       " 'c:\\\\Users\\\\Liu\\\\AppData\\\\Local\\\\Programs\\\\Python\\\\Python39\\\\python39.zip',\n",
       " 'c:\\\\Users\\\\Liu\\\\AppData\\\\Local\\\\Programs\\\\Python\\\\Python39\\\\DLLs',\n",
       " 'c:\\\\Users\\\\Liu\\\\AppData\\\\Local\\\\Programs\\\\Python\\\\Python39\\\\lib',\n",
       " 'c:\\\\Users\\\\Liu\\\\AppData\\\\Local\\\\Programs\\\\Python\\\\Python39',\n",
       " '',\n",
       " 'C:\\\\Users\\\\Liu\\\\AppData\\\\Roaming\\\\Python\\\\Python39\\\\site-packages',\n",
       " 'C:\\\\Users\\\\Liu\\\\AppData\\\\Roaming\\\\Python\\\\Python39\\\\site-packages\\\\win32',\n",
       " 'C:\\\\Users\\\\Liu\\\\AppData\\\\Roaming\\\\Python\\\\Python39\\\\site-packages\\\\win32\\\\lib',\n",
       " 'C:\\\\Users\\\\Liu\\\\AppData\\\\Roaming\\\\Python\\\\Python39\\\\site-packages\\\\Pythonwin',\n",
       " 'c:\\\\Users\\\\Liu\\\\AppData\\\\Local\\\\Programs\\\\Python\\\\Python39\\\\lib\\\\site-packages',\n",
       " 'e:\\\\obsidian\\\\研究生\\\\基金直播',\n",
       " 'e:\\\\obsidian\\\\研究生\\\\基金直播',\n",
       " 'e:\\\\obsidian\\\\研究生\\\\基金直播',\n",
       " 'e:\\\\obsidian\\\\研究生\\\\基金直播\\\\codes']"
      ]
     },
     "execution_count": 11,
     "metadata": {},
     "output_type": "execute_result"
    }
   ],
   "source": [
    "sys.path"
   ]
  },
  {
   "cell_type": "code",
   "execution_count": 12,
   "metadata": {},
   "outputs": [],
   "source": [
    "from baidu_disk.demo.myupload import myupload"
   ]
  },
  {
   "cell_type": "code",
   "execution_count": 13,
   "metadata": {},
   "outputs": [
    {
     "name": "stdout",
     "output_type": "stream",
     "text": [
      "upload_server_path=/api_test/\\4380398_02.mp3\n",
      "[\"86f29da1e51854352191331a8ab94245\",\"54827b32f0118a765256941d9498aefb\"]\n",
      "{'block_list': [0, 1],\n",
      " 'errno': 0,\n",
      " 'request_id': 543805901626050740,\n",
      " 'return_type': 1,\n",
      " 'uploadid': 'P1-MTAuMjI3LjI0NS4yMToxNzA2MDY0MjM1OjU0MzgwNTkwMTYyNjA1MDc0MA=='}\n",
      "<class 'dict'>\n",
      "1------------------------------------------------->\n",
      "upload_curblock_success=1/2 progress=0.5\n",
      "upload_curblock_success=2/2 progress=1.0\n",
      "2------------------------------------------------->\n",
      "upload_server_path=/api_test/\\4380398_02.mp3\n",
      "{'category': 2,\n",
      " 'ctime': 1706064237,\n",
      " 'errno': 0,\n",
      " 'from_type': 1,\n",
      " 'fs_id': 861120441886832,\n",
      " 'isdir': 0,\n",
      " 'md5': 'd5acf3986l59e8dc1df04d88edd73863',\n",
      " 'mtime': 1706064237,\n",
      " 'name': '/api_test/4380398_02.mp3',\n",
      " 'path': '/api_test/4380398_02.mp3',\n",
      " 'size': 5273391}\n",
      "3------------------------------------------------->\n"
     ]
    }
   ],
   "source": [
    "myupload(r\"C:\\Users\\Liu\\Desktop\\4380398_02.mp3\",\"/api_test\")"
   ]
  },
  {
   "cell_type": "code",
   "execution_count": 48,
   "metadata": {},
   "outputs": [],
   "source": [
    "import requests\n",
    "import json\n",
    "def get_files(show_path):\n",
    "  file_list=[]\n",
    "  add_num=-1\n",
    "  start=1  #这个编号的是不包含的\n",
    "\n",
    "  while add_num!=0:\n",
    "    limit=1000  #一次最多1000个\n",
    "    start+=add_num\n",
    "    url=\"https://pan.baidu.com/rest/2.0/xpan/file?method=list&dir=\"+show_path+\"&limit=\"+str(limit)+\"&start=\"+str(start)+\"&access_token=121.92bcfc0ff065f427bd78fac550b89b27.YGvXR2tmXxEQSpCuqZFXtMwqyBLyDmHx4YqMYY-.KM1q8Q\"\n",
    "    payload = {}\n",
    "    files = {}\n",
    "    headers = {\n",
    "      'User-Agent': 'pan.baidu.com'\n",
    "    }\n",
    "\n",
    "    response = requests.request(\"GET\", url, headers=headers, data = payload, files = files)\n",
    "    response_dict = json.loads(response.text)\n",
    "    add_num=len(response_dict['list'])\n",
    "    file_list.extend(response_dict['list'])\n",
    "  return file_list\n"
   ]
  },
  {
   "cell_type": "code",
   "execution_count": 63,
   "metadata": {},
   "outputs": [
    {
     "name": "stdout",
     "output_type": "stream",
     "text": [
      "{'errno': 0, 'guid_info': '', 'list': [{'tkbind_id': 0, 'owner_type': 0, 'category': 4, 'real_category': '', 'fs_id': 68465735782665, 'md5': '7eb822f28q975cdef9cc325a99c14fb3', 'oper_id': 3782639924, 'server_ctime': 1706075041, 'extent_tinyint7': 0, 'wpfile': 0, 'local_mtime': 1706023085, 'size': 10, 'from_type': 0, 'pl': 1, 'share': 0, 'server_atime': 0, 'path': '/api_test/folder/upload.txt', 'local_ctime': 1706023075, 'server_mtime': 1706075041, 'server_filename': 'upload.txt', 'owner_id': 0, 'unlist': 0, 'isdir': 0}], 'request_id': 546760742029315967, 'guid': 0}\n"
     ]
    }
   ],
   "source": [
    "file_list=[]\n",
    "\n",
    "show_path=\"/api_test/folder\"\n",
    "# while add_num!=0:\n",
    "limit=1000  #一次最多1000个\n",
    "start=0\n",
    "url=\"https://pan.baidu.com/rest/2.0/xpan/file?method=list&dir=\"+show_path+\"&limit=\"+str(limit)+\"&start=\"+str(start)+\"&access_token=121.92bcfc0ff065f427bd78fac550b89b27.YGvXR2tmXxEQSpCuqZFXtMwqyBLyDmHx4YqMYY-.KM1q8Q\"\n",
    "payload = {}\n",
    "files = {}\n",
    "headers = {\n",
    "    'User-Agent': 'pan.baidu.com'\n",
    "}\n",
    "\n",
    "response = requests.request(\"GET\", url, headers=headers, data = payload, files = files)\n",
    "response_dict = json.loads(response.text)\n",
    "print(response_dict)\n",
    "    # add_num=len(response_dict['list'])\n",
    "    # file_list.extend(response_dict['list'])"
   ]
  },
  {
   "cell_type": "code",
   "execution_count": 66,
   "metadata": {},
   "outputs": [
    {
     "data": {
      "text/plain": [
       "729"
      ]
     },
     "execution_count": 66,
     "metadata": {},
     "output_type": "execute_result"
    }
   ],
   "source": [
    "len(get_files(\"/fund_stream_project/output\"))"
   ]
  }
 ],
 "metadata": {
  "kernelspec": {
   "display_name": "Python 3",
   "language": "python",
   "name": "python3"
  },
  "language_info": {
   "codemirror_mode": {
    "name": "ipython",
    "version": 3
   },
   "file_extension": ".py",
   "mimetype": "text/x-python",
   "name": "python",
   "nbconvert_exporter": "python",
   "pygments_lexer": "ipython3",
   "version": "3.9.13"
  }
 },
 "nbformat": 4,
 "nbformat_minor": 2
}
